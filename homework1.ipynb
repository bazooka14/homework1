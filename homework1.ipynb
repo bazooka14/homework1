{
 "cells": [
  {
   "cell_type": "code",
   "execution_count": null,
   "id": "d67e20bc-898d-44e3-bb86-30f711c05a06",
   "metadata": {},
   "outputs": [],
   "source": [
    "#Task 1"
   ]
  },
  {
   "cell_type": "code",
   "execution_count": 1,
   "id": "005ecb0d-7fc3-4b1e-99b5-22fca0079dae",
   "metadata": {},
   "outputs": [
    {
     "name": "stdout",
     "output_type": "stream",
     "text": [
      "Високосный год\n"
     ]
    }
   ],
   "source": [
    "year = 2024\n",
    "if (year % 400 == 0) or (year % 4 == 0 and year % 100 != 0):\n",
    "    print(\"Високосный год\")\n",
    "else:\n",
    "    print(\"Обычный год\")\n"
   ]
  },
  {
   "cell_type": "code",
   "execution_count": 2,
   "id": "b125f8f3-bc63-4007-86b4-5aa306f9677b",
   "metadata": {},
   "outputs": [
    {
     "name": "stdout",
     "output_type": "stream",
     "text": [
      "Обычный год\n"
     ]
    }
   ],
   "source": [
    "year = 2013\n",
    "if (year % 400 == 0) or (year % 4 == 0 and year % 100 != 0):\n",
    "    print(\"Високосный год\")\n",
    "else:\n",
    "    print(\"Обычный год\")"
   ]
  },
  {
   "cell_type": "code",
   "execution_count": 3,
   "id": "992986d9-f34c-4b62-b6aa-858e13ab8be3",
   "metadata": {},
   "outputs": [],
   "source": [
    "#Task 2"
   ]
  },
  {
   "cell_type": "code",
   "execution_count": 4,
   "id": "2935b0fb-fcf7-4a9e-9dd1-2fe1b6c7d654",
   "metadata": {},
   "outputs": [
    {
     "name": "stdout",
     "output_type": "stream",
     "text": [
      "Счастливый билет\n"
     ]
    }
   ],
   "source": [
    "number = 123321\n",
    "number = str(number)\n",
    "first_sum = int(number[0]) + int(number[1]) + int(number[2])\n",
    "second_sum = int(number[3]) + int(number[4]) + int(number[5])\n",
    "if first_sum == second_sum:\n",
    "    print(\"Счастливый билет\")\n",
    "else:\n",
    "    print(\"Несчастливый билет\")"
   ]
  },
  {
   "cell_type": "code",
   "execution_count": 5,
   "id": "7aff0479-f60b-4acb-af3b-32541dc41dd8",
   "metadata": {},
   "outputs": [
    {
     "name": "stdout",
     "output_type": "stream",
     "text": [
      "Несчастливый билет\n"
     ]
    }
   ],
   "source": [
    "number = 123456\n",
    "number = str(number)\n",
    "first_sum = int(number[0]) + int(number[1]) + int(number[2])\n",
    "second_sum = int(number[3]) + int(number[4]) + int(number[5])\n",
    "if first_sum == second_sum:\n",
    "    print(\"Счастливый билет\")\n",
    "else:\n",
    "    print(\"Несчастливый билет\")"
   ]
  },
  {
   "cell_type": "code",
   "execution_count": null,
   "id": "491cdf89-615c-4161-8c61-8875e95d15d6",
   "metadata": {},
   "outputs": [],
   "source": [
    "#Конец. Добавил потому, что гитбаш не хочет загружать мой файл."
   ]
  }
 ],
 "metadata": {
  "kernelspec": {
   "display_name": "Python 3 (ipykernel)",
   "language": "python",
   "name": "python3"
  },
  "language_info": {
   "codemirror_mode": {
    "name": "ipython",
    "version": 3
   },
   "file_extension": ".py",
   "mimetype": "text/x-python",
   "name": "python",
   "nbconvert_exporter": "python",
   "pygments_lexer": "ipython3",
   "version": "3.12.4"
  }
 },
 "nbformat": 4,
 "nbformat_minor": 5
}
