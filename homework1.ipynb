{
 "cells": [
  {
   "cell_type": "code",
   "execution_count": null,
   "id": "d67e20bc-898d-44e3-bb86-30f711c05a06",
   "metadata": {},
   "outputs": [],
   "source": []
  }
 ],
 "metadata": {
  "kernelspec": {
   "display_name": "",
   "name": ""
  },
  "language_info": {
   "name": ""
  }
 },
 "nbformat": 4,
 "nbformat_minor": 5
}
